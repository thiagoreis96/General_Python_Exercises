{
 "cells": [
  {
   "cell_type": "markdown",
   "metadata": {},
   "source": [
    "# Numpy:"
   ]
  },
  {
   "cell_type": "markdown",
   "metadata": {},
   "source": [
    "Documentação : https://numpy.org/doc/stable/user/absolute_beginners.html#numpy-the-absolute-basics-for-beginners"
   ]
  },
  {
   "cell_type": "markdown",
   "metadata": {},
   "source": [
    "## Instalação:"
   ]
  },
  {
   "cell_type": "markdown",
   "metadata": {},
   "source": [
    "Insira o código abaixo no Anaconda Prompt:\n",
    "<b>pip install numpy</b>\n",
    "\n",
    "https://numpy.org/install/"
   ]
  },
  {
   "cell_type": "markdown",
   "metadata": {},
   "source": [
    "## Importação:\n",
    "https://numpy.org/doc/stable/user/absolute_beginners.html#how-to-import-numpy"
   ]
  },
  {
   "cell_type": "code",
   "execution_count": 1,
   "metadata": {},
   "outputs": [],
   "source": [
    "import numpy as np"
   ]
  },
  {
   "cell_type": "markdown",
   "metadata": {},
   "source": [
    "## O que é um array?\n",
    "Tipos de arrays:\n",
    "ndarrays -> significam arrays com N dimensões<br>\n",
    "1-D array-> Possui apenas uma dimensão. Será comumente chamado de <b> vetor ou vector </b> <br>\n",
    "2-D array -> Possui 2 dimensões. Será comumente chamado de <b> matriz ou matrix</b> <br>\n",
    "3-D ou Mais array -> Possui 3 ou mais dimensões. Será comumente chamado de <b>tensor</b> \n",
    "                                     \n",
    "https://numpy.org/doc/stable/reference/arrays.html#arrays"
   ]
  },
  {
   "cell_type": "markdown",
   "metadata": {},
   "source": [
    "## Criando um Array:"
   ]
  },
  {
   "cell_type": "markdown",
   "metadata": {},
   "source": [
    "### np.array()\n",
    "https://numpy.org/doc/stable/reference/generated/numpy.array.html?highlight=numpy%20array#numpy-array"
   ]
  },
  {
   "cell_type": "code",
   "execution_count": 5,
   "metadata": {},
   "outputs": [
    {
     "name": "stdout",
     "output_type": "stream",
     "text": [
      "[[1 2 3 4 5 6]\n",
      " [3 4 5 6 7 8]]\n",
      "<class 'numpy.ndarray'>\n"
     ]
    }
   ],
   "source": [
    "a = np.array([[1, 2, 3, 4, 5, 6], [3, 4, 5, 6, 7, 8]])\n",
    "print(a)\n",
    "print(type(a))"
   ]
  },
  {
   "cell_type": "markdown",
   "metadata": {},
   "source": [
    "### np.zeros()\n",
    "https://numpy.org/doc/stable/reference/generated/numpy.zeros.html"
   ]
  },
  {
   "cell_type": "code",
   "execution_count": 7,
   "metadata": {},
   "outputs": [
    {
     "name": "stdout",
     "output_type": "stream",
     "text": [
      "[[[0. 0. 0. 0. 0. 0.]\n",
      "  [0. 0. 0. 0. 0. 0.]\n",
      "  [0. 0. 0. 0. 0. 0.]]\n",
      "\n",
      " [[0. 0. 0. 0. 0. 0.]\n",
      "  [0. 0. 0. 0. 0. 0.]\n",
      "  [0. 0. 0. 0. 0. 0.]]\n",
      "\n",
      " [[0. 0. 0. 0. 0. 0.]\n",
      "  [0. 0. 0. 0. 0. 0.]\n",
      "  [0. 0. 0. 0. 0. 0.]]\n",
      "\n",
      " [[0. 0. 0. 0. 0. 0.]\n",
      "  [0. 0. 0. 0. 0. 0.]\n",
      "  [0. 0. 0. 0. 0. 0.]]\n",
      "\n",
      " [[0. 0. 0. 0. 0. 0.]\n",
      "  [0. 0. 0. 0. 0. 0.]\n",
      "  [0. 0. 0. 0. 0. 0.]]]\n"
     ]
    }
   ],
   "source": [
    "zero_array = np.zeros(shape = (5, 3, 6))\n",
    "print(zero_array)"
   ]
  },
  {
   "cell_type": "markdown",
   "metadata": {},
   "source": [
    "### np.ones()\n",
    "https://numpy.org/doc/stable/reference/generated/numpy.ones.html"
   ]
  },
  {
   "cell_type": "code",
   "execution_count": 9,
   "metadata": {},
   "outputs": [
    {
     "name": "stdout",
     "output_type": "stream",
     "text": [
      "[1. 1.]\n"
     ]
    }
   ],
   "source": [
    "one_array = np.ones(2)\n",
    "print(one_array)"
   ]
  },
  {
   "cell_type": "markdown",
   "metadata": {},
   "source": [
    "### no.empty()\n",
    "https://numpy.org/doc/stable/reference/generated/numpy.empty.html"
   ]
  },
  {
   "cell_type": "code",
   "execution_count": 22,
   "metadata": {},
   "outputs": [
    {
     "name": "stdout",
     "output_type": "stream",
     "text": [
      "[[1.32802657e-311 3.16202013e-322 0.00000000e+000 0.00000000e+000]\n",
      " [0.00000000e+000 2.02374799e-052 1.28970185e+165 1.04784113e+165]\n",
      " [5.34848672e-038 1.04047556e-071 1.27913029e+165 2.70237624e-056]]\n"
     ]
    }
   ],
   "source": [
    "vazio = np.empty((3, 4))\n",
    "print(vazio)"
   ]
  },
  {
   "cell_type": "markdown",
   "metadata": {},
   "source": [
    "### np.arange()\n",
    "https://numpy.org/doc/stable/reference/generated/numpy.arange.html"
   ]
  },
  {
   "cell_type": "code",
   "execution_count": 29,
   "metadata": {},
   "outputs": [
    {
     "name": "stdout",
     "output_type": "stream",
     "text": [
      "[ 50  80 110 140 170 200]\n"
     ]
    }
   ],
   "source": [
    "arr = np.arange(50, 201, 30)\n",
    "print(arr)"
   ]
  },
  {
   "cell_type": "markdown",
   "metadata": {},
   "source": [
    "### np.linspace()\n",
    "https://numpy.org/doc/stable/reference/generated/numpy.linspace.html"
   ]
  },
  {
   "cell_type": "code",
   "execution_count": 4,
   "metadata": {},
   "outputs": [
    {
     "name": "stdout",
     "output_type": "stream",
     "text": [
      "(array([  0.        ,   2.56410256,   5.12820513,   7.69230769,\n",
      "        10.25641026,  12.82051282,  15.38461538,  17.94871795,\n",
      "        20.51282051,  23.07692308,  25.64102564,  28.20512821,\n",
      "        30.76923077,  33.33333333,  35.8974359 ,  38.46153846,\n",
      "        41.02564103,  43.58974359,  46.15384615,  48.71794872,\n",
      "        51.28205128,  53.84615385,  56.41025641,  58.97435897,\n",
      "        61.53846154,  64.1025641 ,  66.66666667,  69.23076923,\n",
      "        71.79487179,  74.35897436,  76.92307692,  79.48717949,\n",
      "        82.05128205,  84.61538462,  87.17948718,  89.74358974,\n",
      "        92.30769231,  94.87179487,  97.43589744, 100.        ]), 2.5641025641025643)\n"
     ]
    }
   ],
   "source": [
    "linear_array = np.linspace(0, 100, num = 40, retstep = True)\n",
    "print(linear_array)"
   ]
  },
  {
   "cell_type": "markdown",
   "metadata": {},
   "source": [
    "## Descobrindo o tamanho de um array:\n",
    "Número de dimensões : https://numpy.org/doc/stable/reference/generated/numpy.ndarray.ndim.html <br>\n",
    "Número de items: https://numpy.org/doc/stable/reference/generated/numpy.ndarray.size.html\n",
    "Formato : https://numpy.org/doc/stable/reference/generated/numpy.ndarray.shape.html\n"
   ]
  },
  {
   "cell_type": "code",
   "execution_count": 6,
   "metadata": {},
   "outputs": [
    {
     "data": {
      "text/plain": [
       "array([[[0., 0., 0., 0., 0., 0.],\n",
       "        [0., 0., 0., 0., 0., 0.],\n",
       "        [0., 0., 0., 0., 0., 0.]],\n",
       "\n",
       "       [[0., 0., 0., 0., 0., 0.],\n",
       "        [0., 0., 0., 0., 0., 0.],\n",
       "        [0., 0., 0., 0., 0., 0.]],\n",
       "\n",
       "       [[0., 0., 0., 0., 0., 0.],\n",
       "        [0., 0., 0., 0., 0., 0.],\n",
       "        [0., 0., 0., 0., 0., 0.]],\n",
       "\n",
       "       [[0., 0., 0., 0., 0., 0.],\n",
       "        [0., 0., 0., 0., 0., 0.],\n",
       "        [0., 0., 0., 0., 0., 0.]],\n",
       "\n",
       "       [[0., 0., 0., 0., 0., 0.],\n",
       "        [0., 0., 0., 0., 0., 0.],\n",
       "        [0., 0., 0., 0., 0., 0.]]])"
      ]
     },
     "execution_count": 6,
     "metadata": {},
     "output_type": "execute_result"
    }
   ],
   "source": [
    "zero_array = np.zeros(shape = (5,3,6))\n",
    "zero_array"
   ]
  },
  {
   "cell_type": "code",
   "execution_count": 11,
   "metadata": {},
   "outputs": [
    {
     "name": "stdout",
     "output_type": "stream",
     "text": [
      "(5, 3, 6)\n",
      "90\n",
      "3\n"
     ]
    }
   ],
   "source": [
    "# tamanhos das dimensões\n",
    "print(zero_array.shape)\n",
    "\n",
    "# quantidade de elementos\n",
    "print(zero_array.size)\n",
    "\n",
    "# quanditade de dimensões\n",
    "print(zero_array.ndim)"
   ]
  },
  {
   "cell_type": "markdown",
   "metadata": {},
   "source": [
    "### Mudando o tamanho de um array:\n",
    "\n",
    "https://numpy.org/doc/stable/reference/generated/numpy.reshape.html"
   ]
  },
  {
   "cell_type": "markdown",
   "metadata": {},
   "source": [
    "### Rankeando um array:"
   ]
  },
  {
   "cell_type": "markdown",
   "metadata": {},
   "source": [
    "https://numpy.org/doc/stable/reference/generated/numpy.sort.html"
   ]
  },
  {
   "cell_type": "markdown",
   "metadata": {},
   "source": [
    "## Transformando um Vetor (1-D) em uma matrix(2-D)\n",
    ".newaxis:https://numpy.org/doc/stable/reference/constants.html?#numpy.newaxis <br>\n",
    ".expand_dims:https://numpy.org/doc/stable/reference/generated/numpy.expand_dims.html#numpy.expand_dims"
   ]
  },
  {
   "cell_type": "code",
   "execution_count": 15,
   "metadata": {},
   "outputs": [
    {
     "name": "stdout",
     "output_type": "stream",
     "text": [
      "1\n",
      "(3,)\n"
     ]
    }
   ],
   "source": [
    "a = np.array([1, 2, 3])\n",
    "print(a.ndim)\n",
    "print(a.shape)"
   ]
  },
  {
   "cell_type": "code",
   "execution_count": 17,
   "metadata": {},
   "outputs": [
    {
     "name": "stdout",
     "output_type": "stream",
     "text": [
      "(1, 3)\n",
      "2\n",
      "[[1 2 3]]\n"
     ]
    }
   ],
   "source": [
    "a2_1 = a[np.newaxis,:]\n",
    "print(a2.shape)\n",
    "print(a2.ndim)\n",
    "print(a2_1)"
   ]
  },
  {
   "cell_type": "code",
   "execution_count": 18,
   "metadata": {},
   "outputs": [
    {
     "name": "stdout",
     "output_type": "stream",
     "text": [
      "(1, 3)\n",
      "2\n",
      "[[1]\n",
      " [2]\n",
      " [3]]\n"
     ]
    }
   ],
   "source": [
    "a2_2 = a[:,np.newaxis]\n",
    "print(a2.shape)\n",
    "print(a2.ndim)\n",
    "print(a2_2)"
   ]
  },
  {
   "cell_type": "code",
   "execution_count": 26,
   "metadata": {},
   "outputs": [
    {
     "name": "stdout",
     "output_type": "stream",
     "text": [
      "3\n"
     ]
    }
   ],
   "source": [
    "print(a2_2[2][0])"
   ]
  },
  {
   "cell_type": "markdown",
   "metadata": {},
   "source": [
    "### Concatenando arrays:\n",
    "https://numpy.org/doc/stable/reference/generated/numpy.concatenate.html"
   ]
  },
  {
   "cell_type": "code",
   "execution_count": 31,
   "metadata": {},
   "outputs": [
    {
     "name": "stdout",
     "output_type": "stream",
     "text": [
      "[1 2 3 4 5 6]\n",
      "[4 5 6 1 2 3]\n"
     ]
    }
   ],
   "source": [
    "a = np.array([1, 2, 3])\n",
    "b = np.array([4, 5, 6])\n",
    "\n",
    "c = np.concatenate((a,b))\n",
    "d = np.concatenate((b,a))\n",
    "\n",
    "print(f\"{c}\\n{d}\")"
   ]
  },
  {
   "cell_type": "markdown",
   "metadata": {},
   "source": [
    "### Consultando itens de uma array:\n",
    "https://numpy.org/doc/stable/user/absolute_beginners.html#indexing-and-slicing"
   ]
  },
  {
   "cell_type": "code",
   "execution_count": 42,
   "metadata": {},
   "outputs": [
    {
     "name": "stdout",
     "output_type": "stream",
     "text": [
      "[[ 1  2  3  4]\n",
      " [ 5  6  7  8]\n",
      " [ 9 10 11 12]]\n",
      "-=-=-=-=-=-=-=-=-=-=\n",
      "[ 9 10 11 12]\n"
     ]
    }
   ],
   "source": [
    "a = np.array([[1, 2, 3, 4], [5, 6, 7, 8], [9, 10, 11, 12]])\n",
    "\n",
    "print(a)\n",
    "print(\"-=\"*10)\n",
    "\n",
    "maior_8 = a[a>8]\n",
    "print(maior_8)"
   ]
  },
  {
   "cell_type": "markdown",
   "metadata": {},
   "source": [
    "### Operações com Arrays:\n",
    "Soma : https://numpy.org/doc/stable/reference/generated/numpy.sum.html#numpy.sum <br>\n",
    "Valor mínimo : https://numpy.org/doc/stable/reference/generated/numpy.ndarray.min.html<br>\n",
    "Valor máximo : https://numpy.org/doc/stable/reference/generated/numpy.ndarray.max.html<br>\n",
    "Média : https://numpy.org/doc/stable/reference/generated/numpy.ndarray.mean.html"
   ]
  },
  {
   "cell_type": "code",
   "execution_count": 43,
   "metadata": {},
   "outputs": [
    {
     "name": "stdout",
     "output_type": "stream",
     "text": [
      "6\n",
      "3\n",
      "1\n",
      "2.0\n"
     ]
    }
   ],
   "source": [
    "a = np.array([1, 2, 3])\n",
    "print(a.sum())\n",
    "print(a.max())\n",
    "print(a.min())\n",
    "print(a.mean())"
   ]
  },
  {
   "cell_type": "markdown",
   "metadata": {},
   "source": [
    "### Gerando amostras aleatórias:\n"
   ]
  },
  {
   "cell_type": "code",
   "execution_count": 48,
   "metadata": {},
   "outputs": [],
   "source": [
    "from numpy.random import default_rng"
   ]
  },
  {
   "cell_type": "code",
   "execution_count": 85,
   "metadata": {},
   "outputs": [
    {
     "name": "stdout",
     "output_type": "stream",
     "text": [
      "[[ 5 15 17 11]\n",
      " [11  1  0  4]]\n"
     ]
    }
   ],
   "source": [
    "rng=default_rng()\n",
    "aleatorio = rng.integers(20, size = (2, 4))\n",
    "print(aleatorio)"
   ]
  },
  {
   "cell_type": "markdown",
   "metadata": {},
   "source": [
    "## Diferença entre Arrays e Listas:"
   ]
  },
  {
   "cell_type": "code",
   "execution_count": 91,
   "metadata": {},
   "outputs": [
    {
     "name": "stdout",
     "output_type": "stream",
     "text": [
      "['1' 'Thiago' '2' '3' '4' '5' '6' '7' '8']\n",
      "<class 'numpy.ndarray'>\n",
      "-=-=-=-=-=-=-=-=-=-=-=-=-=-=-=-=-=-=-=-=-=-=-=-=-=\n",
      "[1, 'Thiago', 2, 3, 4, 5, 6, 7, 8]\n",
      "<class 'list'>\n"
     ]
    }
   ],
   "source": [
    "a = np.array([1, 'Thiago', 2, 3, 4, 5, 6, 7, 8])\n",
    "print(a)\n",
    "print(type(a))\n",
    "\n",
    "print('-='*25)\n",
    "\n",
    "lista_a = [1, 'Thiago', 2, 3, 4, 5, 6, 7, 8]\n",
    "print(lista_a)\n",
    "print(type(lista_a))"
   ]
  },
  {
   "cell_type": "markdown",
   "metadata": {},
   "source": [
    "## Comparando o processamento:"
   ]
  },
  {
   "cell_type": "code",
   "execution_count": 108,
   "metadata": {},
   "outputs": [],
   "source": [
    "from time import process_time\n",
    "\n",
    "lista_a = list(rng.integers(10, 100, 10000000))\n",
    "lista_b = list(rng.integers(10, 100, 10000000))\n",
    "\n",
    "# lista_c = lista_a * lista_b\n",
    "\n",
    "# print(lista_c)"
   ]
  },
  {
   "cell_type": "code",
   "execution_count": 137,
   "metadata": {},
   "outputs": [
    {
     "name": "stdout",
     "output_type": "stream",
     "text": [
      "2.484375\n"
     ]
    }
   ],
   "source": [
    "lista_c = []\n",
    "\n",
    "t1 = process_time()\n",
    "for i in range(len(lista_a)):\n",
    "    lista_c.append(lista_a[i]*lista_b[i])\n",
    "    \n",
    "t2 = process_time()\n",
    "print(t2-t1)"
   ]
  },
  {
   "cell_type": "code",
   "execution_count": 138,
   "metadata": {},
   "outputs": [
    {
     "name": "stdout",
     "output_type": "stream",
     "text": [
      "0.03125\n"
     ]
    }
   ],
   "source": [
    "a = rng.integers(10, 100, 10000000)\n",
    "b = rng.integers(10, 100, 10000000)\n",
    "\n",
    "t1a = process_time()\n",
    "c = a*b\n",
    "t2a = process_time()\n",
    "\n",
    "print(t2a-t1a)"
   ]
  },
  {
   "cell_type": "code",
   "execution_count": 139,
   "metadata": {},
   "outputs": [
    {
     "data": {
      "text/plain": [
       "79.5"
      ]
     },
     "execution_count": 139,
     "metadata": {},
     "output_type": "execute_result"
    }
   ],
   "source": [
    "(t2-t1)/(t2a-t1a)"
   ]
  },
  {
   "cell_type": "code",
   "execution_count": 175,
   "metadata": {},
   "outputs": [
    {
     "data": {
      "image/png": "[encoded data removed]",
      "text/plain": [
       "<Figure size 432x288 with 1 Axes>"
      ]
     },
     "metadata": {
      "needs_background": "light"
     },
     "output_type": "display_data"
    }
   ],
   "source": [
    "import matplotlib.pyplot as plt\n",
    "\n",
    "dados_x = rng.integers(20, size = 30)\n",
    "dados_y = rng.integers(12, size = 30)\n",
    "\n",
    "plt.scatter(x = dados_x, y = dados_y)\n",
    "plt.show()"
   ]
  }
 ],
 "metadata": {
  "kernelspec": {
   "display_name": "Python 3",
   "language": "python",
   "name": "python3"
  },
  "language_info": {
   "codemirror_mode": {
    "name": "ipython",
    "version": 3
   },
   "file_extension": ".py",
   "mimetype": "text/x-python",
   "name": "python",
   "nbconvert_exporter": "python",
   "pygments_lexer": "ipython3",
   "version": "3.8.8"
  }
 },
 "nbformat": 4,
 "nbformat_minor": 4
}
